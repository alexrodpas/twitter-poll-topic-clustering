{
 "cells": [
  {
   "cell_type": "code",
   "execution_count": 125,
   "metadata": {},
   "outputs": [],
   "source": [
    "import json\n",
    "import pandas as pd\n",
    "import numpy as np"
   ]
  },
  {
   "cell_type": "code",
   "execution_count": 148,
   "metadata": {},
   "outputs": [],
   "source": [
    "class Config:\n",
    "    def __init__(self):\n",
    "        self.link_to_dataset = 'decahose_polls_2021-08_100k.txt'\n",
    "\n",
    "        self.only_english = True\n",
    "        self.only_retweeted = False\n",
    "        \n",
    "        self.KforKMeans = 25\n",
    "\n",
    "config = Config()"
   ]
  },
  {
   "cell_type": "code",
   "execution_count": 67,
   "metadata": {},
   "outputs": [],
   "source": [
    "class Reader:\n",
    "    def __init__(self, link_to_dataset):\n",
    "        self.link_to_dataset = link_to_dataset\n",
    "\n",
    "    def read(self):\n",
    "        polls = []\n",
    "        with open(self.link_to_dataset) as f:\n",
    "            for line in f.readlines():\n",
    "                polls.append(json.loads(line))\n",
    "\n",
    "        df = pd.DataFrame.from_records(polls)\n",
    "        return df"
   ]
  },
  {
   "cell_type": "code",
   "execution_count": 116,
   "metadata": {},
   "outputs": [],
   "source": [
    "class Preprocessor:\n",
    "    def __init__(self, df):\n",
    "        self.df = df\n",
    "\n",
    "    def preprocess_df(self, only_english = True, only_retweeted = False):\n",
    "        # df.drop(df[df['withheld_in_countries'] == True].index, inplace=True)\n",
    "        for col in self.df.columns:\n",
    "            try:\n",
    "                if self.df[col].nunique() == 0 or self.df[col].nunique() == 1:\n",
    "                    print(f\"dropping {col}\")\n",
    "                    self.df.drop(columns = [col], inplace = True)\n",
    "                    continue\n",
    "            except:\n",
    "                pass\n",
    "\n",
    "            try:\n",
    "                if self.df[col].notnull().sum() == 0:\n",
    "                    print(f\"dropping {col}\")\n",
    "                    self.df.drop(columns = [col], inplace = True)\n",
    "                    continue\n",
    "            except:\n",
    "                pass\n",
    "\n",
    "        self.df['RT'] = self.df['text'].str.startswith('RT', na = False)\n",
    "        if only_retweeted:\n",
    "            self.df = self.df[self.df['RT'] == True]\n",
    "\n",
    "        if only_english:\n",
    "            self.df = self.df[self.df['lang'] == 'en']\n",
    "\n",
    "\n",
    "    def preprocess_text(self):\n",
    "        # TODO \n",
    "        return\n",
    "\n",
    "    def display_info(self):\n",
    "        print()\n",
    "        print(self.df.head(5))\n",
    "        print(f\"\\nShape: {self.df.shape}\")\n",
    "\n",
    "\n",
    "    def get_dataframe(self):\n",
    "        self.df.to_csv('./processed_polls.csv')\n",
    "        self.display_info()\n",
    "        return self.df        \n",
    "\n"
   ]
  },
  {
   "cell_type": "code",
   "execution_count": 117,
   "metadata": {},
   "outputs": [],
   "source": [
    "df = Reader(config.link_to_dataset).read()"
   ]
  },
  {
   "cell_type": "code",
   "execution_count": 118,
   "metadata": {},
   "outputs": [
    {
     "name": "stdout",
     "output_type": "stream",
     "text": [
      "dropping quote_count\n",
      "dropping contributors\n",
      "dropping reply_count\n"
     ]
    },
    {
     "name": "stdout",
     "output_type": "stream",
     "text": [
      "dropping favorite_count\n",
      "dropping retweeted\n",
      "dropping coordinates\n",
      "dropping retweet_count\n",
      "dropping favorited\n",
      "dropping geo\n",
      "dropping filter_level\n",
      "\n",
      "   truncated                                               text  \\\n",
      "0      False  RT @CaesarsSports: Thursday Dingers is coming ...   \n",
      "1      False  RT @Openly: Should sports bodies allow interse...   \n",
      "2      False                       RT @TheSkyBlueHub: Defenders   \n",
      "5      False                 How often do you get your haircut?   \n",
      "6      False                              Let's settle a debate   \n",
      "\n",
      "   is_quote_status  in_reply_to_status_id                   id  \\\n",
      "0            False                    NaN  1422682179906199556   \n",
      "1            False                    NaN  1422682226488188940   \n",
      "2            False                    NaN  1422682282679226368   \n",
      "5            False                    NaN  1422682359430885382   \n",
      "6            False                    NaN  1422682375780188164   \n",
      "\n",
      "                                            entities   timestamp_ms  \\\n",
      "0  {'user_mentions': [{'id': 1400190038806257666,...  1628028838503   \n",
      "1  {'user_mentions': [{'id': 1001499086162485248,...  1628028849609   \n",
      "2  {'user_mentions': [{'id': 1026138517523640321,...  1628028863006   \n",
      "5  {'user_mentions': [], 'symbols': [], 'polls': ...  1628028881305   \n",
      "6  {'user_mentions': [], 'symbols': [], 'polls': ...  1628028885203   \n",
      "\n",
      "                                              source in_reply_to_screen_name  \\\n",
      "0  <a href=\"http://twitter.com/download/iphone\" r...                    None   \n",
      "1  <a href=\"http://twitter.com/download/android\" ...                    None   \n",
      "2  <a href=\"http://twitter.com/download/iphone\" r...                    None   \n",
      "5  <a href=\"http://twitter.com/download/android\" ...                    None   \n",
      "6  <a href=\"http://twitter.com/download/android\" ...                    None   \n",
      "\n",
      "                id_str  ...  extended_tweet display_text_range  \\\n",
      "0  1422682179906199556  ...             NaN                NaN   \n",
      "1  1422682226488188940  ...             NaN                NaN   \n",
      "2  1422682282679226368  ...             NaN                NaN   \n",
      "5  1422682359430885382  ...             NaN                NaN   \n",
      "6  1422682375780188164  ...             NaN                NaN   \n",
      "\n",
      "  quoted_status_permalink quoted_status_id quoted_status quoted_status_id_str  \\\n",
      "0                     NaN              NaN           NaN                  NaN   \n",
      "1                     NaN              NaN           NaN                  NaN   \n",
      "2                     NaN              NaN           NaN                  NaN   \n",
      "5                     NaN              NaN           NaN                  NaN   \n",
      "6                     NaN              NaN           NaN                  NaN   \n",
      "\n",
      "  extended_entities withheld_in_countries scopes     RT  \n",
      "0               NaN                   NaN    NaN   True  \n",
      "1               NaN                   NaN    NaN   True  \n",
      "2               NaN                   NaN    NaN   True  \n",
      "5               NaN                   NaN    NaN  False  \n",
      "6               NaN                   NaN    NaN  False  \n",
      "\n",
      "[5 rows x 29 columns]\n",
      "\n",
      "Shape: (48865, 29)\n"
     ]
    }
   ],
   "source": [
    "preprocessor = Preprocessor(df, only_english = config.only_english, only_retweeted = config.only_retweeted)\n",
    "preprocessor.preprocess_df()\n",
    "preprocessor.preprocess_text()\n",
    "\n",
    "df = preprocessor.get_dataframe()"
   ]
  },
  {
   "cell_type": "code",
   "execution_count": 108,
   "metadata": {},
   "outputs": [
    {
     "data": {
      "text/plain": [
       "(48865, 29)"
      ]
     },
     "execution_count": 108,
     "metadata": {},
     "output_type": "execute_result"
    }
   ],
   "source": [
    "df.shape"
   ]
  },
  {
   "cell_type": "code",
   "execution_count": 121,
   "metadata": {},
   "outputs": [
    {
     "data": {
      "text/plain": [
       "0        RT @CaesarsSports: Thursday Dingers is coming ...\n",
       "1        RT @Openly: Should sports bodies allow interse...\n",
       "2                             RT @TheSkyBlueHub: Defenders\n",
       "5                       How often do you get your haircut?\n",
       "6                                    Let's settle a debate\n",
       "                               ...                        \n",
       "99986    RT @kpopidolvoting: Free‼️ Free‼️ Free‼️\\n\\n5k...\n",
       "99988    Do I drop Jalen Hurts and pick up Mac Jones? 1...\n",
       "99993    RT @CosmicAwards: Who's the artist of the mont...\n",
       "99996    ✨ Intuition Test 2! ✨ \\n\\nAnother adventure! W...\n",
       "99997    RT @MikeAdamOnAir: What’s your favorite new so...\n",
       "Name: text, Length: 48865, dtype: object"
      ]
     },
     "execution_count": 121,
     "metadata": {},
     "output_type": "execute_result"
    }
   ],
   "source": [
    "df.text"
   ]
  },
  {
   "cell_type": "code",
   "execution_count": 143,
   "metadata": {},
   "outputs": [],
   "source": [
    "class SentenceTransformerEmbedding:\n",
    "    def __init__(self):\n",
    "        from sentence_transformers import SentenceTransformer\n",
    "        self.embedder = SentenceTransformer('paraphrase-MiniLM-L6-v2')\n",
    "\n",
    "    def embed(self, texts):\n",
    "        texts = np.array(texts)\n",
    "        self.embeddings = self.embedder.encode(texts)\n",
    "\n",
    "        return self.embeddings"
   ]
  },
  {
   "cell_type": "code",
   "execution_count": 144,
   "metadata": {},
   "outputs": [],
   "source": [
    "embeddings = SentenceTransformerEmbedding().embed(df.text)"
   ]
  },
  {
   "cell_type": "code",
   "execution_count": 145,
   "metadata": {},
   "outputs": [
    {
     "data": {
      "text/plain": [
       "(48865, 384)"
      ]
     },
     "execution_count": 145,
     "metadata": {},
     "output_type": "execute_result"
    }
   ],
   "source": [
    "embeddings.shape"
   ]
  },
  {
   "cell_type": "code",
   "execution_count": 159,
   "metadata": {},
   "outputs": [],
   "source": [
    "class KMeansClustering():\n",
    "    def __init__(self, k = 25):\n",
    "        from sklearn.cluster import KMeans\n",
    "        self.clusterer = KMeans(n_clusters = k, random_state=0)\n",
    "\n",
    "    def fit(self, embeddings):\n",
    "        self.clusterer.fit(embeddings)\n",
    "        self.cluster_assignments = self.clusterer.labels_\n",
    "        self.cluster_centers = self.clusterer.cluster_centers_\n",
    "\n",
    "    def sample_from_cluster(self, df, cluster_number, n = 10):\n",
    "        df['cluster'] = self.cluster_assignments\n",
    "        df_cluster = df[df['cluster'] == cluster_number]\n",
    "        \n",
    "        texts = list(df_cluster.sample(n)['text'])\n",
    "        return texts"
   ]
  },
  {
   "cell_type": "code",
   "execution_count": 160,
   "metadata": {},
   "outputs": [],
   "source": [
    "clusterer = KMeansClustering(k = config.KforKMeans)\n",
    "clusterer.fit(embeddings)"
   ]
  },
  {
   "cell_type": "code",
   "execution_count": 167,
   "metadata": {},
   "outputs": [
    {
     "data": {
      "text/plain": [
       "['RT @Jual_Kupon_TTA: 💥LAST GIVEAWAY💥\\n\\n💢Winner takes call💢\\n\\n10 coupons contain 30 tickets\\n\\nRules : FOLLOW &amp; RETWEET\\n\\nEND : 18 Hours',\n",
       " 'RT @Jual_Kupon_TTA: 💥LAST GIVEAWAY💥\\n\\n💢Winner takes call💢\\n\\n10 coupons contain 30 tickets\\n\\nRules : FOLLOW &amp; RETWEET\\n\\nEND : 18 Hours',\n",
       " 'RT @Jual_Kupon_TTA: 💥LAST GIVEAWAY💥\\n\\n💢Winner takes call💢\\n\\n10 coupons contain 30 tickets\\n\\nRules : FOLLOW &amp; RETWEET\\n\\nEND : 18 Hours',\n",
       " 'RT @Jual_Kupon_TTA: 💥LAST GIVEAWAY💥\\n\\n💢Winner takes call💢\\n\\n10 coupons contain 30 tickets\\n\\nRules : FOLLOW &amp; RETWEET\\n\\nEND : 18 Hours',\n",
       " 'RT @Jual_Kupon_TTA: 🌟[GIVEAWAY]🌟\\n\\n💫FIRST PLACE WINNER GET 7 COUPON ISI 30 TIKET💫\\n\\n💫SECOND PLACE GET 3 COUPON ISI 30 TIKET💫\\n\\nRULES : FOLLOW…',\n",
       " 'RT @Jual_Kupon_TTA: 💥LAST GIVEAWAY💥\\n\\n💢Winner takes call💢\\n\\n10 coupons contain 30 tickets\\n\\nRules : FOLLOW &amp; RETWEET\\n\\nEND : 18 Hours',\n",
       " 'RT @Jual_Kupon_TTA: 🔥[Another Giveaway]🔥\\n\\nFirst place gets 7 coupons isi 30 tickets\\n\\nSecond place gets 3 coupons isi 30 tickets\\n\\nRules : Re…',\n",
       " 'RT @Jual_Kupon: GiveAway TTA Coupons\\n\\nWinner takes all \\n10 Coupons (300 tickets)\\n\\nRules : Follow &amp; Retweet\\nThe coupon will be given to the…',\n",
       " 'RT @Jual_Kupon_TTA: 🌟[GIVEAWAY]🌟\\n\\n💫FIRST PLACE WINNER GET 7 COUPON ISI 30 TIKET💫\\n\\n💫SECOND PLACE GET 3 COUPON ISI 30 TIKET💫\\n\\nRULES : FOLLOW…',\n",
       " 'RT @Jual_Kupon_TTA: 💥LAST GIVEAWAY💥\\n\\n💢Winner takes call💢\\n\\n10 coupons contain 30 tickets\\n\\nRules : FOLLOW &amp; RETWEET\\n\\nEND : 18 Hours']"
      ]
     },
     "execution_count": 167,
     "metadata": {},
     "output_type": "execute_result"
    }
   ],
   "source": [
    "clusterer.sample_from_cluster(df, 2)"
   ]
  },
  {
   "cell_type": "code",
   "execution_count": null,
   "metadata": {},
   "outputs": [],
   "source": [
    "def plot_dendrogram(model, **kwargs):\n",
    "    # Create linkage matrix and then plot the dendrogram\n",
    "\n",
    "    # create the counts of samples under each node\n",
    "    counts = np.zeros(model.children_.shape[0])\n",
    "    n_samples = len(model.labels_)\n",
    "    for i, merge in enumerate(model.children_):\n",
    "        current_count = 0\n",
    "        for child_idx in merge:\n",
    "            if child_idx < n_samples:\n",
    "                current_count += 1  # leaf node\n",
    "            else:\n",
    "                current_count += counts[child_idx - n_samples]\n",
    "        counts[i] = current_count\n",
    "\n",
    "    linkage_matrix = np.column_stack(\n",
    "        [model.children_, model.distances_, counts]\n",
    "    ).astype(float)\n",
    "\n",
    "    # Plot the corresponding dendrogram\n",
    "    dendrogram(linkage_matrix, **kwargs)"
   ]
  }
 ],
 "metadata": {
  "kernelspec": {
   "display_name": "Python 3 (ipykernel)",
   "language": "python",
   "name": "python3"
  },
  "language_info": {
   "codemirror_mode": {
    "name": "ipython",
    "version": 3
   },
   "file_extension": ".py",
   "mimetype": "text/x-python",
   "name": "python",
   "nbconvert_exporter": "python",
   "pygments_lexer": "ipython3",
   "version": "3.11.5"
  }
 },
 "nbformat": 4,
 "nbformat_minor": 2
}
